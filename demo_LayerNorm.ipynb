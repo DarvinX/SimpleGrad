{
 "cells": [
  {
   "cell_type": "code",
   "execution_count": 1,
   "id": "99890b40-3682-482a-848d-03df2b41a2b7",
   "metadata": {},
   "outputs": [],
   "source": [
    "from sklearn import datasets, metrics\n",
    "from sklearn.model_selection import train_test_split\n",
    "from matplotlib import pyplot as plt"
   ]
  },
  {
   "cell_type": "code",
   "execution_count": 2,
   "id": "0cff3fb7-3c0a-4d3d-99c3-36dbfd94ef21",
   "metadata": {},
   "outputs": [
    {
     "data": {
      "image/png": "[encoded data removed]",
      "text/plain": [
       "<Figure size 1000x300 with 4 Axes>"
      ]
     },
     "metadata": {},
     "output_type": "display_data"
    }
   ],
   "source": [
    "digits = datasets.load_digits()\n",
    "\n",
    "_, axes = plt.subplots(nrows=1, ncols=4, figsize=(10, 3))\n",
    "for ax, image, label in zip(axes, digits.images, digits.target):\n",
    "    ax.set_axis_off()\n",
    "    ax.imshow(image, cmap=plt.cm.gray_r, interpolation=\"nearest\")\n",
    "    ax.set_title(\"Training: %i\" % label)"
   ]
  },
  {
   "cell_type": "code",
   "execution_count": 3,
   "id": "1ed5c1db-2dcd-42ed-85c7-d487efa5672b",
   "metadata": {},
   "outputs": [],
   "source": [
    "from engine.utils import toConstant, toOneHot\n",
    "\n",
    "images = toConstant(digits.images.reshape(1797, 64)/16 -0.5)\n",
    "labels = toConstant(toOneHot(digits.target))\n",
    "\n",
    "X_train, X_test, y_train, y_test = train_test_split(\n",
    "    images, labels, test_size=0.2, random_state=42)"
   ]
  },
  {
   "cell_type": "code",
   "execution_count": 4,
   "id": "bd1a428e-c688-4015-806b-3fdd96467ecb",
   "metadata": {},
   "outputs": [
    {
     "name": "stdout",
     "output_type": "stream",
     "text": [
      "Sequence([\n",
      "Linear(in_dim: 64, out_dim: 16, activation: leakyRelu), \n",
      "LayerNorm, \n",
      "Linear(in_dim: 16, out_dim: 16, activation: leakyRelu), \n",
      "LayerNorm, \n",
      "Linear(in_dim: 16, out_dim: 10, activation: softmax)])\n"
     ]
    }
   ],
   "source": [
    "from engine.nn import Sequence, Linear, LayerNorm\n",
    "from engine.activations import leakyRelu, softmax\n",
    "from engine.optimizers import SGD, Adam\n",
    "\n",
    "model = Sequence([\n",
    "    Linear(64,16, activation=leakyRelu),\n",
    "    LayerNorm(),\n",
    "    Linear(16,16, activation=leakyRelu),\n",
    "    LayerNorm(),\n",
    "    Linear(16,10, activation=softmax)])\n",
    "\n",
    "print(model)\n",
    "\n",
    "\n",
    "# optim = SGD(model.parameters(), lr=0.01)\n",
    "# print(model.parameters())\n",
    "optim = Adam(model.parameters())\n",
    "# print(labels[:2].shape)?\n",
    "batch_size = 8"
   ]
  },
  {
   "cell_type": "code",
   "execution_count": 5,
   "id": "0a8e30bc-f1b2-482b-ac8e-cdbde5b59c70",
   "metadata": {},
   "outputs": [
    {
     "name": "stdout",
     "output_type": "stream",
     "text": [
      "epoch 0\n"
     ]
    },
    {
     "name": "stderr",
     "output_type": "stream",
     "text": [
      "100%|██████████| 180/180 [20:08<00:00,  6.71s/it, loss =1.21] \n"
     ]
    },
    {
     "name": "stdout",
     "output_type": "stream",
     "text": [
      "epoch 1\n"
     ]
    },
    {
     "name": "stderr",
     "output_type": "stream",
     "text": [
      "100%|██████████| 180/180 [19:34<00:00,  6.53s/it, loss =0.581]\n"
     ]
    },
    {
     "name": "stdout",
     "output_type": "stream",
     "text": [
      "epoch 2\n"
     ]
    },
    {
     "name": "stderr",
     "output_type": "stream",
     "text": [
      "100%|██████████| 180/180 [19:34<00:00,  6.53s/it, loss =0.309]\n"
     ]
    },
    {
     "name": "stdout",
     "output_type": "stream",
     "text": [
      "epoch 3\n"
     ]
    },
    {
     "name": "stderr",
     "output_type": "stream",
     "text": [
      "100%|██████████| 180/180 [19:35<00:00,  6.53s/it, loss =0.209] \n"
     ]
    },
    {
     "name": "stdout",
     "output_type": "stream",
     "text": [
      "epoch 4\n"
     ]
    },
    {
     "name": "stderr",
     "output_type": "stream",
     "text": [
      "100%|██████████| 180/180 [19:36<00:00,  6.54s/it, loss =0.18]  \n"
     ]
    },
    {
     "name": "stdout",
     "output_type": "stream",
     "text": [
      "epoch 5\n"
     ]
    },
    {
     "name": "stderr",
     "output_type": "stream",
     "text": [
      "100%|██████████| 180/180 [19:38<00:00,  6.54s/it, loss =0.167] \n"
     ]
    },
    {
     "name": "stdout",
     "output_type": "stream",
     "text": [
      "epoch 6\n"
     ]
    },
    {
     "name": "stderr",
     "output_type": "stream",
     "text": [
      "100%|██████████| 180/180 [19:55<00:00,  6.64s/it, loss =0.159] \n"
     ]
    },
    {
     "name": "stdout",
     "output_type": "stream",
     "text": [
      "epoch 7\n"
     ]
    },
    {
     "name": "stderr",
     "output_type": "stream",
     "text": [
      "100%|██████████| 180/180 [20:58<00:00,  6.99s/it, loss =0.144] \n"
     ]
    },
    {
     "name": "stdout",
     "output_type": "stream",
     "text": [
      "epoch 8\n"
     ]
    },
    {
     "name": "stderr",
     "output_type": "stream",
     "text": [
      "100%|██████████| 180/180 [20:51<00:00,  6.95s/it, loss =0.15]   \n"
     ]
    },
    {
     "name": "stdout",
     "output_type": "stream",
     "text": [
      "epoch 9\n"
     ]
    },
    {
     "name": "stderr",
     "output_type": "stream",
     "text": [
      "100%|██████████| 180/180 [21:01<00:00,  7.01s/it, loss =0.152]  \n"
     ]
    }
   ],
   "source": [
    "import tqdm\n",
    "from engine.loss_fn import cross_entropy\n",
    "\n",
    "loss_hist = []\n",
    "for e in range(10):\n",
    "    print(\"epoch\", e)\n",
    "    p = tqdm.tqdm(range(0, len(X_train), batch_size))\n",
    "    for b in p:\n",
    "        optim.zero_grad()\n",
    "        pred = model(X_train[b:b+batch_size])\n",
    "        # print(\"pred\",pred)\n",
    "        loss = cross_entropy(y_train[b:b+batch_size], pred)\n",
    "        # print(loss)\n",
    "        loss.backward()\n",
    "        # plot_weights(model)\n",
    "        # plot_gradients(model)\n",
    "        optim.step()\n",
    "        # print(loss.data)\n",
    "        p.set_postfix({'loss ': loss.data})\n",
    "        loss_hist.append(loss.data)"
   ]
  },
  {
   "cell_type": "code",
   "execution_count": null,
   "id": "e1f184a5-7af5-4e56-80b3-ee399f29826a",
   "metadata": {},
   "outputs": [
    {
     "data": {
      "image/png": "[encoded data removed]",
      "text/plain": [
       "<Figure size 640x480 with 1 Axes>"
      ]
     },
     "metadata": {},
     "output_type": "display_data"
    }
   ],
   "source": [
    "plt.plot(loss_hist)\n",
    "plt.xlabel(\"steps\")\n",
    "plt.ylabel(\"loss\")\n",
    "plt.title(\"LayerNorm (Adam)\")\n",
    "plt.show()"
   ]
  },
  {
   "cell_type": "code",
   "execution_count": null,
   "id": "98d0a19e-684f-48ef-be10-fe72d10918d8",
   "metadata": {},
   "outputs": [],
   "source": []
  }
 ],
 "metadata": {
  "kernelspec": {
   "display_name": "amused",
   "language": "python",
   "name": "python3"
  },
  "language_info": {
   "codemirror_mode": {
    "name": "ipython",
    "version": 3
   },
   "file_extension": ".py",
   "mimetype": "text/x-python",
   "name": "python",
   "nbconvert_exporter": "python",
   "pygments_lexer": "ipython3",
   "version": "3.10.15"
  }
 },
 "nbformat": 4,
 "nbformat_minor": 5
}
