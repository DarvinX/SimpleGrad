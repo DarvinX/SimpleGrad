{
 "cells": [
  {
   "cell_type": "code",
   "execution_count": 1,
   "id": "99890b40-3682-482a-848d-03df2b41a2b7",
   "metadata": {},
   "outputs": [],
   "source": [
    "from sklearn import datasets, metrics\n",
    "from sklearn.model_selection import train_test_split\n",
    "from matplotlib import pyplot as plt"
   ]
  },
  {
   "cell_type": "code",
   "execution_count": 2,
   "id": "0cff3fb7-3c0a-4d3d-99c3-36dbfd94ef21",
   "metadata": {},
   "outputs": [
    {
     "data": {
      "image/png": "[encoded data removed]",
      "text/plain": [
       "<Figure size 1000x300 with 4 Axes>"
      ]
     },
     "metadata": {},
     "output_type": "display_data"
    }
   ],
   "source": [
    "digits = datasets.load_digits()\n",
    "\n",
    "_, axes = plt.subplots(nrows=1, ncols=4, figsize=(10, 3))\n",
    "for ax, image, label in zip(axes, digits.images, digits.target):\n",
    "    ax.set_axis_off()\n",
    "    ax.imshow(image, cmap=plt.cm.gray_r, interpolation=\"nearest\")\n",
    "    ax.set_title(\"Training: %i\" % label)"
   ]
  },
  {
   "cell_type": "code",
   "execution_count": 3,
   "id": "1ed5c1db-2dcd-42ed-85c7-d487efa5672b",
   "metadata": {},
   "outputs": [],
   "source": [
    "from engine.utils import toConstant, toOneHot\n",
    "\n",
    "images = toConstant(digits.images.reshape(1797, 64)/16 -0.5)\n",
    "labels = toConstant(toOneHot(digits.target))\n",
    "\n",
    "X_train, X_test, y_train, y_test = train_test_split(\n",
    "    images, labels, test_size=0.2, random_state=42)"
   ]
  },
  {
   "cell_type": "code",
   "execution_count": 4,
   "id": "bd1a428e-c688-4015-806b-3fdd96467ecb",
   "metadata": {},
   "outputs": [
    {
     "name": "stdout",
     "output_type": "stream",
     "text": [
      "Sequence([Linear(in_dim: 64, out_dim: 16, activation: leakyRelu), Linear(in_dim: 16, out_dim: 16, activation: leakyRelu), Linear(in_dim: 16, out_dim: 10, activation: softmax)])\n"
     ]
    }
   ],
   "source": [
    "from engine.nn import Sequence, Linear\n",
    "from engine.activations import leakyRelu, softmax\n",
    "from engine.optimizers import SGD\n",
    "\n",
    "model = Sequence([\n",
    "    Linear(64,16, activation=leakyRelu),\n",
    "    Linear(16,16, activation=leakyRelu),\n",
    "    Linear(16,10, activation=softmax)])\n",
    "\n",
    "print(model)\n",
    "\n",
    "\n",
    "optim = SGD(model.parameters(), lr=0.01)\n",
    "# print(labels[:2].shape)?\n",
    "batch_size = 8"
   ]
  },
  {
   "cell_type": "code",
   "execution_count": 5,
   "id": "0a8e30bc-f1b2-482b-ac8e-cdbde5b59c70",
   "metadata": {},
   "outputs": [
    {
     "name": "stdout",
     "output_type": "stream",
     "text": [
      "epoch 0\n"
     ]
    },
    {
     "name": "stderr",
     "output_type": "stream",
     "text": [
      "100%|█████████████████████████████████████████████████████████████████████████████████████████████████████████████████████████████| 180/180 [13:32<00:00,  4.51s/it, loss =2.3]\n"
     ]
    },
    {
     "name": "stdout",
     "output_type": "stream",
     "text": [
      "epoch 1\n"
     ]
    },
    {
     "name": "stderr",
     "output_type": "stream",
     "text": [
      "100%|████████████████████████████████████████████████████████████████████████████████████████████████████████████████████████████| 180/180 [13:31<00:00,  4.51s/it, loss =1.93]\n"
     ]
    },
    {
     "name": "stdout",
     "output_type": "stream",
     "text": [
      "epoch 2\n"
     ]
    },
    {
     "name": "stderr",
     "output_type": "stream",
     "text": [
      "100%|████████████████████████████████████████████████████████████████████████████████████████████████████████████████████████████| 180/180 [13:26<00:00,  4.48s/it, loss =1.59]\n"
     ]
    },
    {
     "name": "stdout",
     "output_type": "stream",
     "text": [
      "epoch 3\n"
     ]
    },
    {
     "name": "stderr",
     "output_type": "stream",
     "text": [
      "100%|████████████████████████████████████████████████████████████████████████████████████████████████████████████████████████████| 180/180 [13:27<00:00,  4.49s/it, loss =1.28]\n"
     ]
    },
    {
     "name": "stdout",
     "output_type": "stream",
     "text": [
      "epoch 4\n"
     ]
    },
    {
     "name": "stderr",
     "output_type": "stream",
     "text": [
      "100%|████████████████████████████████████████████████████████████████████████████████████████████████████████████████████████████| 180/180 [13:27<00:00,  4.49s/it, loss =1.01]\n"
     ]
    },
    {
     "name": "stdout",
     "output_type": "stream",
     "text": [
      "epoch 5\n"
     ]
    },
    {
     "name": "stderr",
     "output_type": "stream",
     "text": [
      "100%|███████████████████████████████████████████████████████████████████████████████████████████████████████████████████████████| 180/180 [13:27<00:00,  4.48s/it, loss =0.802]\n"
     ]
    },
    {
     "name": "stdout",
     "output_type": "stream",
     "text": [
      "epoch 6\n"
     ]
    },
    {
     "name": "stderr",
     "output_type": "stream",
     "text": [
      "100%|███████████████████████████████████████████████████████████████████████████████████████████████████████████████████████████| 180/180 [13:41<00:00,  4.56s/it, loss =0.642]\n"
     ]
    },
    {
     "name": "stdout",
     "output_type": "stream",
     "text": [
      "epoch 7\n"
     ]
    },
    {
     "name": "stderr",
     "output_type": "stream",
     "text": [
      "100%|████████████████████████████████████████████████████████████████████████████████████████████████████████████████████████████| 180/180 [13:46<00:00,  4.59s/it, loss =0.51]\n"
     ]
    },
    {
     "name": "stdout",
     "output_type": "stream",
     "text": [
      "epoch 8\n"
     ]
    },
    {
     "name": "stderr",
     "output_type": "stream",
     "text": [
      "100%|███████████████████████████████████████████████████████████████████████████████████████████████████████████████████████████| 180/180 [13:44<00:00,  4.58s/it, loss =0.407]\n"
     ]
    },
    {
     "name": "stdout",
     "output_type": "stream",
     "text": [
      "epoch 9\n"
     ]
    },
    {
     "name": "stderr",
     "output_type": "stream",
     "text": [
      "100%|███████████████████████████████████████████████████████████████████████████████████████████████████████████████████████████| 180/180 [13:48<00:00,  4.60s/it, loss =0.331]\n"
     ]
    }
   ],
   "source": [
    "import tqdm\n",
    "from engine.loss_fn import cross_entropy\n",
    "\n",
    "loss_hist = []\n",
    "for e in range(10):\n",
    "    print(\"epoch\", e)\n",
    "    p = tqdm.tqdm(range(0, len(X_train), batch_size))\n",
    "    for b in p:\n",
    "        optim.zero_grad()\n",
    "        pred = model(X_train[b:b+batch_size])\n",
    "        # print(\"pred\",pred)\n",
    "        loss = cross_entropy(y_train[b:b+batch_size], pred)\n",
    "        # print(loss)\n",
    "        loss.backward()\n",
    "        # plot_weights(model)\n",
    "        # plot_gradients(model)\n",
    "        optim.step()\n",
    "        # print(loss.data)\n",
    "        p.set_postfix({'loss ': loss.data})\n",
    "        loss_hist.append(loss.data)"
   ]
  },
  {
   "cell_type": "code",
   "execution_count": 6,
   "id": "e1f184a5-7af5-4e56-80b3-ee399f29826a",
   "metadata": {},
   "outputs": [
    {
     "data": {
      "image/png": "[encoded data removed]",
      "text/plain": [
       "<Figure size 640x480 with 1 Axes>"
      ]
     },
     "metadata": {},
     "output_type": "display_data"
    }
   ],
   "source": [
    "plt.plot(loss_hist)\n",
    "plt.xlabel(\"steps\")\n",
    "plt.ylabel(\"loss\")\n",
    "plt.show()"
   ]
  },
  {
   "cell_type": "code",
   "execution_count": null,
   "id": "98d0a19e-684f-48ef-be10-fe72d10918d8",
   "metadata": {},
   "outputs": [],
   "source": []
  }
 ],
 "metadata": {
  "kernelspec": {
   "display_name": "Python 3 (ipykernel)",
   "language": "python",
   "name": "python3"
  },
  "language_info": {
   "codemirror_mode": {
    "name": "ipython",
    "version": 3
   },
   "file_extension": ".py",
   "mimetype": "text/x-python",
   "name": "python",
   "nbconvert_exporter": "python",
   "pygments_lexer": "ipython3",
   "version": "3.12.7"
  }
 },
 "nbformat": 4,
 "nbformat_minor": 5
}
